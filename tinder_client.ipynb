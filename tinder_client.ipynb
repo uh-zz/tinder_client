{
 "metadata": {
  "language_info": {
   "codemirror_mode": {
    "name": "ipython",
    "version": 3
   },
   "file_extension": ".py",
   "mimetype": "text/x-python",
   "name": "python",
   "nbconvert_exporter": "python",
   "pygments_lexer": "ipython3",
   "version": 3
  },
  "orig_nbformat": 2
 },
 "nbformat": 4,
 "nbformat_minor": 2,
 "cells": [
  {
   "cell_type": "code",
   "execution_count": null,
   "metadata": {},
   "outputs": [],
   "source": [
    "from selenium import webdriver\n",
    "import chromedriver_binary\n",
    "import requests\n",
    "import json"
   ]
  },
  {
   "cell_type": "code",
   "execution_count": null,
   "metadata": {},
   "outputs": [],
   "source": [
    "json_open = open('qitta_json.json', 'r')\n",
    "json_load = json.load(json_open)\n",
    "print(json_load)"
   ]
  },
  {
   "cell_type": "code",
   "execution_count": null,
   "metadata": {},
   "outputs": [],
   "source": [
    "options = webdriver.ChromeOptions()\n",
    "\n",
    "options.add_argument(\n",
    "    '--user-data-dir=/Users/uh-zz/Library/Application Support/Google/Chrome/'\n",
    ")\n",
    "options.add_argument(\n",
    "    '--headless'\n",
    ")\n",
    "\n",
    "options.add_argument(\"--remote-debugging-port=9222\") \n",
    "options.add_argument('--no-sandbox')"
   ]
  },
  {
   "cell_type": "code",
   "execution_count": null,
   "metadata": {},
   "outputs": [],
   "source": [
    "driver = webdriver.Chrome(options=options)\n",
    "driver.get(\"https://tinder.com/app/recs\")"
   ]
  },
  {
   "cell_type": "code",
   "execution_count": null,
   "metadata": {},
   "outputs": [],
   "source": [
    "session = requests.session()\n",
    "\n",
    "for cookie in driver.get_cookies():\n",
    "    session.cookies.set(cookie['name'], cookie['value'])\n",
    "    print(cookie['name'], cookie['value'])\n",
    "\n",
    "result = session.get(\"https://api.gotinder.com/v2/recs/core?locale=ja\")\n",
    "\n",
    "print(result.text)\n",
    "\n",
    "# ユーザ取得\n",
    "# users = driver.get(\"https://api.gotinder.com/v2/recs/core?locale=ja\")\n",
    "# print(users)\n",
    "\n",
    "# postする場所\n",
    "# \"https://api.gotinder.com/like/{_id}?locale=ja\"\n",
    "\n",
    "driver.quit()"
   ]
  }
 ]
}