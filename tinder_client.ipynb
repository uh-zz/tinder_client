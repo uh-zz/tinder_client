{
 "metadata": {
  "language_info": {
   "codemirror_mode": {
    "name": "ipython",
    "version": 3
   },
   "file_extension": ".py",
   "mimetype": "text/x-python",
   "name": "python",
   "nbconvert_exporter": "python",
   "pygments_lexer": "ipython3",
   "version": "3.7.3-final"
  },
  "orig_nbformat": 2,
  "kernelspec": {
   "name": "python_defaultSpec_1598880784812",
   "display_name": "Python 3.7.3 64-bit"
  }
 },
 "nbformat": 4,
 "nbformat_minor": 2,
 "cells": [
  {
   "cell_type": "code",
   "execution_count": 8,
   "metadata": {
    "tags": []
   },
   "outputs": [
    {
     "output_type": "stream",
     "name": "stdout",
     "text": "Defaulting to user installation because normal site-packages is not writeable\nCollecting requests\n  Using cached requests-2.24.0-py2.py3-none-any.whl (61 kB)\nCollecting idna<3,>=2.5\n  Using cached idna-2.10-py2.py3-none-any.whl (58 kB)\nCollecting certifi>=2017.4.17\n  Using cached certifi-2020.6.20-py2.py3-none-any.whl (156 kB)\nCollecting chardet<4,>=3.0.2\n  Using cached chardet-3.0.4-py2.py3-none-any.whl (133 kB)\nRequirement already satisfied: urllib3!=1.25.0,!=1.25.1,<1.26,>=1.21.1 in /Users/nakazato/Library/Python/3.7/lib/python/site-packages (from requests) (1.25.10)\nInstalling collected packages: idna, certifi, chardet, requests\n\u001b[33m  WARNING: The script chardetect is installed in '/Users/nakazato/Library/Python/3.7/bin' which is not on PATH.\n  Consider adding this directory to PATH or, if you prefer to suppress this warning, use --no-warn-script-location.\u001b[0m\nSuccessfully installed certifi-2020.6.20 chardet-3.0.4 idna-2.10 requests-2.24.0\nNote: you may need to restart the kernel to use updated packages.\n"
    }
   ],
   "source": [
    "%pip install requests"
   ]
  },
  {
   "cell_type": "code",
   "execution_count": 12,
   "metadata": {},
   "outputs": [],
   "source": [
    "from selenium import webdriver\n",
    "# import chromedriver\n",
    "import requests\n",
    "import json"
   ]
  },
  {
   "cell_type": "code",
   "execution_count": 14,
   "metadata": {
    "tags": []
   },
   "outputs": [
    {
     "output_type": "stream",
     "name": "stdout",
     "text": "fuga\n"
    }
   ],
   "source": [
    "json_open = open('setting.json', 'r')\n",
    "json_load = json.load(json_open)\n",
    "print(json_load[\"hoge\"])"
   ]
  },
  {
   "cell_type": "code",
   "execution_count": null,
   "metadata": {},
   "outputs": [],
   "source": [
    "options = webdriver.ChromeOptions()\n",
    "\n",
    "options.add_argument(\n",
    "    '--user-data-dir=/Users/uh-zz/Library/Application Support/Google/Chrome/'\n",
    ")\n",
    "options.add_argument(\n",
    "    '--headless'\n",
    ")\n",
    "\n",
    "options.add_argument(\"--remote-debugging-port=9222\") \n",
    "options.add_argument('--no-sandbox')"
   ]
  },
  {
   "cell_type": "code",
   "execution_count": null,
   "metadata": {},
   "outputs": [],
   "source": [
    "driver = webdriver.Chrome(options=options)\n",
    "driver.get(\"https://tinder.com/app/recs\")"
   ]
  },
  {
   "cell_type": "code",
   "execution_count": null,
   "metadata": {},
   "outputs": [],
   "source": [
    "session = requests.session()\n",
    "\n",
    "for cookie in driver.get_cookies():\n",
    "    session.cookies.set(cookie['name'], cookie['value'])\n",
    "    print(cookie['name'], cookie['value'])\n",
    "\n",
    "result = session.get(\"https://api.gotinder.com/v2/recs/core?locale=ja\")\n",
    "\n",
    "print(result.text)\n",
    "\n",
    "# ユーザ取得\n",
    "# users = driver.get(\"https://api.gotinder.com/v2/recs/core?locale=ja\")\n",
    "# print(users)\n",
    "\n",
    "# postする場所\n",
    "# \"https://api.gotinder.com/like/{_id}?locale=ja\"\n",
    "\n",
    "driver.quit()"
   ]
  }
 ]
}