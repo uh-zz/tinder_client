{
 "metadata": {
  "language_info": {
   "codemirror_mode": {
    "name": "ipython",
    "version": 3
   },
   "file_extension": ".py",
   "mimetype": "text/x-python",
   "name": "python",
   "nbconvert_exporter": "python",
   "pygments_lexer": "ipython3",
   "version": "3.7.8-final"
  },
  "orig_nbformat": 2,
  "kernelspec": {
   "name": "python_defaultSpec_1599311977995",
   "display_name": "Python 3.7.8 64-bit ('3.7.8': pyenv)"
  }
 },
 "nbformat": 4,
 "nbformat_minor": 2,
 "cells": [
  {
   "cell_type": "code",
   "execution_count": 1,
   "metadata": {},
   "outputs": [],
   "source": [
    "from selenium import webdriver\n",
    "import chromedriver_binary\n",
    "import requests\n",
    "import json\n",
    "import time"
   ]
  },
  {
   "cell_type": "code",
   "execution_count": null,
   "metadata": {},
   "outputs": [],
   "source": [
    "json_open = open('profile.json', 'r')\n",
    "json_load = json.load(json_open)\n",
    "userdata = json_loda[\"userdata\"]"
   ]
  },
  {
   "cell_type": "code",
   "execution_count": 11,
   "metadata": {
    "tags": []
   },
   "outputs": [],
   "source": [
    "json_file = open('profile.json', 'r')\n",
    "json_data = json.load(json_file)\n",
    "userdata = json_data[\"userdata\"]"
   ]
  },
  {
   "cell_type": "code",
   "execution_count": 12,
   "metadata": {},
   "outputs": [],
   "source": [
    "options = webdriver.ChromeOptions()\n",
    "\n",
    "options.add_argument(\n",
    "    '--user-data-dir='+ userdata\n",
    ")\n",
    "options.add_argument(\n",
    "    '--headless'\n",
    ")\n",
    "\n",
    "options.add_argument(\"--remote-debugging-port=9222\") \n",
    "options.add_argument('--no-sandbox')\n",
    "options.add_argument('--disable-dev-shm-usage')"
   ]
  },
  {
   "cell_type": "code",
   "execution_count": 10,
   "metadata": {},
   "outputs": [],
   "source": [
    "driver = webdriver.Chrome(options=options)\n",
    "\n",
    "driver.get(\"https://tinder.com/app/recs\")"
   ]
  },
  {
   "cell_type": "code",
   "execution_count": null,
   "metadata": {},
   "outputs": [],
   "source": [
    "api_key = driver.execute_script(\"return localStorage.getItem('TinderWeb/APIToken')\")\n",
    "print(\"api_key:\", api_key)"
   ]
  },
  {
   "cell_type": "code",
   "execution_count": null,
   "metadata": {},
   "outputs": [],
   "source": [
    "with requests.Session() as session:\n",
    "    headers = {\n",
    "        \"X-Auth-Token\": api_key,\n",
    "        \"Content-Type\": \"application/json\"\n",
    "    }\n",
    "\n",
    "    session.headers.update(headers)\n",
    "\n",
    "    # 女の子リスト取得\n",
    "    users = session.get(\"https://api.gotinder.com/v2/recs/core?locale=ja\")\n",
    "\n",
    "    count = 0 \n",
    "    for user in json.loads(users.text)[\"data\"][\"results\"]:\n",
    "        count += 1\n",
    "\n",
    "        # 1秒待たせて手動っぽくする\n",
    "        time.sleep(1)\n",
    "        print(\"count:\", count)\n",
    "\n",
    "        user_id = user[\"user\"][\"_id\"]\n",
    "        print(user_id)\n",
    "\n",
    "        # いいね!\n",
    "        session.get(\"https://api.gotinder.com/like/{}?locale=ja\".format(user_id))\n",
    "\n",
    "        # 一回でいいねする上限\n",
    "        if count == 20:\n",
    "            break\n",
    "\n",
    "driver.quit()\n",
    "\n",
    "\n"
   ]
  }
 ]
}