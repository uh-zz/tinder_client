{
 "metadata": {
  "language_info": {
   "codemirror_mode": {
    "name": "ipython",
    "version": 3
   },
   "file_extension": ".py",
   "mimetype": "text/x-python",
   "name": "python",
   "nbconvert_exporter": "python",
   "pygments_lexer": "ipython3",
   "version": "3.7.8-final"
  },
  "orig_nbformat": 2,
  "kernelspec": {
   "name": "python_defaultSpec_1599471237502",
   "display_name": "Python 3.7.8 64-bit ('3.7.8': pyenv)"
  }
 },
 "nbformat": 4,
 "nbformat_minor": 2,
 "cells": [
  {
   "cell_type": "code",
   "execution_count": null,
   "metadata": {},
   "outputs": [],
   "source": [
    "from selenium import webdriver\n",
    "import chromedriver_binary\n",
    "import requests\n",
    "import json\n",
    "import time"
   ]
  },
  {
   "cell_type": "markdown",
   "metadata": {},
   "source": [
    "設定ファイルを読み込む"
   ]
  },
  {
   "cell_type": "code",
   "execution_count": 21,
   "metadata": {},
   "outputs": [],
   "source": [
    "json_open = open('profile.json', 'r')\n",
    "json_load = json.load(json_open)\n",
    "userdata = json_load[\"userdata\"]"
   ]
  },
  {
   "cell_type": "markdown",
   "metadata": {},
   "source": [
    "ウェブドライバーのオプションを指定"
   ]
  },
  {
   "cell_type": "code",
   "execution_count": null,
   "metadata": {},
   "outputs": [],
   "source": [
    "options = webdriver.ChromeOptions()\n",
    "\n",
    "options.add_argument(\n",
    "    '--user-data-dir='+ userdata\n",
    ")\n",
    "##このオプションをつけると画面上でブラウザを立ち上げなくて済む\n",
    "# options.add_argument(\n",
    "#     '--headless'\n",
    "# )\n",
    "\n",
    "options.add_argument(\"--remote-debugging-port=9222\") \n",
    "options.add_argument('--no-sandbox')\n",
    "options.add_argument('--disable-dev-shm-usage')"
   ]
  },
  {
   "cell_type": "markdown",
   "metadata": {},
   "source": [
    "このコマンドでウェブドライバーが起動する"
   ]
  },
  {
   "cell_type": "code",
   "execution_count": null,
   "metadata": {},
   "outputs": [],
   "source": [
    "driver.get(\"https://tinder.com/app/recs\")"
   ]
  },
  {
   "cell_type": "markdown",
   "metadata": {},
   "source": [
    "Tinderの公式ページをリクエストする"
   ]
  },
  {
   "cell_type": "code",
   "execution_count": null,
   "metadata": {},
   "outputs": [],
   "source": [
    "driver = webdriver.Chrome(options=options)"
   ]
  },
  {
   "cell_type": "code",
   "execution_count": 12,
   "metadata": {},
   "outputs": [],
   "source": [
    "driver.get(\"https://tinder.com/app/recs\")"
   ]
  },
  {
   "cell_type": "code",
   "execution_count": 23,
   "metadata": {},
   "outputs": [],
   "source": [
    "driver = webdriver.Chrome(options=options)"
   ]
  },
  {
   "cell_type": "code",
   "execution_count": 27,
   "metadata": {},
   "outputs": [],
   "source": [
    "driver.quit()"
   ]
  },
  {
   "cell_type": "code",
   "execution_count": null,
   "metadata": {},
   "outputs": [],
   "source": []
  },
  {
   "cell_type": "code",
   "execution_count": 12,
   "metadata": {
    "tags": []
   },
   "outputs": [
    {
     "output_type": "stream",
     "name": "stdout",
     "text": "api_key: 377bfa15-c20b-4d5f-b537-251890c1669d\n"
    }
   ],
   "source": [
    "電話番号の入力"
   ]
  },
  {
   "cell_type": "code",
   "execution_count": null,
   "metadata": {},
   "outputs": [],
   "source": [
    "BASE_URL = \"https://api.gotinder.com/\"\n",
    "phone_number =  json_load[\"phonenumber\"] #input(\"Enter your phone number: \")\n",
    "session = requests.session()\n",
    "# Request OTP verification code\n",
    "url = BASE_URL + \"v2/auth/sms/send?auth_type=sms\"\n",
    "body = {\"phone_number\": phone_number}\n",
    "session.post(url, body )\n"
   ]
  },
  {
   "cell_type": "markdown",
   "metadata": {},
   "source": [
    "認証コード"
   ]
  },
  {
   "cell_type": "code",
   "execution_count": 5,
   "metadata": {},
   "outputs": [
    {
     "output_type": "error",
     "ename": "NameError",
     "evalue": "name 'driver' is not defined",
     "traceback": [
      "\u001b[0;31m---------------------------------------------------------------------------\u001b[0m",
      "\u001b[0;31mNameError\u001b[0m                                 Traceback (most recent call last)",
      "\u001b[0;32m<ipython-input-5-edc6c27c0986>\u001b[0m in \u001b[0;36m<module>\u001b[0;34m\u001b[0m\n\u001b[0;32m----> 1\u001b[0;31m \u001b[0mdriver\u001b[0m\u001b[0;34m.\u001b[0m\u001b[0mquit\u001b[0m\u001b[0;34m(\u001b[0m\u001b[0;34m)\u001b[0m\u001b[0;34m\u001b[0m\u001b[0;34m\u001b[0m\u001b[0m\n\u001b[0m",
      "\u001b[0;31mNameError\u001b[0m: name 'driver' is not defined"
     ]
    }
   ],
   "source": [
    "driver.quit()"
   ]
  },
  {
   "cell_type": "code",
   "execution_count": null,
   "metadata": {},
   "outputs": [],
   "source": []
  },
  {
   "cell_type": "code",
   "execution_count": 19,
   "metadata": {
    "tags": []
   },
   "outputs": [
    {
     "output_type": "stream",
     "name": "stdout",
     "text": "count: 1\n57786f2e8a6c8c33128fc8d5\ncount: 2\n5f479e1de71a5a01004aa940\ncount: 3\n5f5378f78a49eb01008f4eca\ncount: 4\n584cfdeb2e9720192d62b68b\ncount: 5\n5f527ba28a49eb01008e8078\ncount: 6\n5f35b2e43c7b7c0100da90ed\ncount: 7\n5f526261b2b3e301008321fa\ncount: 8\n5f46f4d48cfdc10100ec9cb7\ncount: 9\n5f526138cfd1d50100fbacb1\ncount: 10\n5f53180a8a49eb01008f0d21\ncount: 11\n5f23a03270034f01009f5773\ncount: 12\n5f527734cb97e501001eacd1\ncount: 13\n5ef1665a0943260100595d12\ncount: 14\n5f526663067a0401005863ea\ncount: 15\n54ec1371b5d5f58f6da9bbff\ncount: 16\n5ee49b44b382640100248026\ncount: 17\n5edf9a5f904aab010093a839\ncount: 18\n5757e315c54b6cab0bc5ec51\n"
    }
   ],
   "source": [
    "url = BASE_URL + \"v2/auth/login/sms\"\n",
    "body = {\n",
    "    \"otp_code\": input(\"Enter your OTP code: \"),\n",
    "    \"phone_number\": phone_number,\n",
    "    \"is_update\": False,\n",
    "}\n",
    "session.post(url, json=body)"
   ]
  },
  {
   "cell_type": "markdown",
   "metadata": {},
   "source": [
    "セッションを取得"
   ]
  },
  {
   "cell_type": "code",
   "execution_count": null,
   "metadata": {
    "tags": []
   },
   "outputs": [],
   "source": [
    "count = 0 \n",
    "\n",
    "#一回でいいねする上限\n",
    "count_mux = 100\n",
    "\n",
    "for n in range(6):\n",
    "    # 女の子リスト取得\n",
    "    users = session.get(\"https://api.gotinder.com/v2/recs/core?locale=ja\")\n",
    "\n",
    "    for user in json.loads(users.text)[\"data\"][\"results\"]:\n",
    "        count += 1\n",
    "\n",
    "        # 0.1秒待たせて手動っぽくする\n",
    "        time.sleep(0.1)\n",
    "\n",
    "        print(\"count:\", count)\n",
    "\n",
    "        user_id = user[\"user\"][\"_id\"]\n",
    "        # print(user_id)\n",
    "\n",
    "        # いいね!\n",
    "        session.get(\"https://api.gotinder.com/like/{}?locale=ja\".format(user_id))\n",
    "        # 一回でいいねする上限\n",
    "        if count == count_mux:\n",
    "            break\n",
    "    if count == count_mux:\n",
    "        break\n"
   ]
  },
  {
   "cell_type": "markdown",
   "metadata": {},
   "source": [
    "いいねする"
   ]
  },
  {
   "cell_type": "code",
   "execution_count": null,
   "metadata": {},
   "outputs": [],
   "source": [
    "driver.quit()"
   ]
  },
  {
   "cell_type": "code",
   "execution_count": null,
   "metadata": {},
   "outputs": [],
   "source": [
    "ドライバーを閉じる"
   ]
  }
 ]
}