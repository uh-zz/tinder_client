{
 "metadata": {
  "language_info": {
   "codemirror_mode": {
    "name": "ipython",
    "version": 3
   },
   "file_extension": ".py",
   "mimetype": "text/x-python",
   "name": "python",
   "nbconvert_exporter": "python",
   "pygments_lexer": "ipython3",
   "version": "3.7.8-final"
  },
  "orig_nbformat": 2,
  "kernelspec": {
   "name": "python_defaultSpec_1599471237502",
   "display_name": "Python 3.7.8 64-bit ('3.7.8': pyenv)"
  }
 },
 "nbformat": 4,
 "nbformat_minor": 2,
 "cells": [
  {
   "cell_type": "code",
   "execution_count": null,
   "metadata": {},
   "outputs": [],
   "source": [
    "from selenium import webdriver\n",
    "import chromedriver_binary\n",
    "import requests\n",
    "import json\n",
    "import time"
   ]
  },
  {
   "cell_type": "markdown",
   "metadata": {},
   "source": [
    "設定ファイルを読み込む"
   ]
  },
  {
   "cell_type": "code",
   "execution_count": null,
   "metadata": {},
   "outputs": [],
   "source": [
    "json_open = open('profile.json', 'r')\n",
    "json_load = json.load(json_open)\n",
    "userdata = json_load[\"userdata\"]"
   ]
  },
  {
   "cell_type": "markdown",
   "metadata": {},
   "source": [
    "ウェブドライバーのオプションを指定"
   ]
  },
  {
   "cell_type": "code",
   "execution_count": null,
   "metadata": {},
   "outputs": [],
   "source": [
    "options = webdriver.ChromeOptions()\n",
    "\n",
    "options.add_argument(\n",
    "    '--user-data-dir='+ userdata\n",
    ")\n",
    "##このオプションをつけると画面上でブラウザを立ち上げなくて済む\n",
    "# options.add_argument(\n",
    "#     '--headless'\n",
    "# )\n",
    "\n",
    "options.add_argument(\"--remote-debugging-port=9222\") \n",
    "options.add_argument('--no-sandbox')\n",
    "options.add_argument('--disable-dev-shm-usage')"
   ]
  },
  {
   "cell_type": "markdown",
   "metadata": {},
   "source": [
    "このコマンドでウェブドライバーが起動する"
   ]
  },
  {
   "cell_type": "code",
   "execution_count": null,
   "metadata": {},
   "outputs": [],
   "source": [
    "driver.get(\"https://tinder.com/app/recs\")"
   ]
  },
  {
   "cell_type": "markdown",
   "metadata": {},
   "source": [
    "Tinderの公式ページをリクエストする"
   ]
  },
  {
   "cell_type": "code",
   "execution_count": null,
   "metadata": {},
   "outputs": [],
   "source": [
    "driver = webdriver.Chrome(options=options)"
   ]
  },
  {
   "cell_type": "code",
   "execution_count": null,
   "metadata": {},
   "outputs": [],
   "source": [
    "電話番号の入力"
   ]
  },
  {
   "cell_type": "code",
   "execution_count": null,
   "metadata": {},
   "outputs": [],
   "source": [
    "BASE_URL = \"https://api.gotinder.com/\"\n",
    "phone_number =  json_load[\"phonenumber\"] #input(\"Enter your phone number: \")\n",
    "session = requests.session()\n",
    "# Request OTP verification code\n",
    "url = BASE_URL + \"v2/auth/sms/send?auth_type=sms\"\n",
    "body = {\"phone_number\": phone_number}\n",
    "session.post(url, body )\n"
   ]
  },
  {
   "cell_type": "markdown",
   "metadata": {},
   "source": [
    "認証コード"
   ]
  },
  {
   "cell_type": "code",
   "execution_count": null,
   "metadata": {},
   "outputs": [],
   "source": [
    "url = BASE_URL + \"v2/auth/login/sms\"\n",
    "body = {\n",
    "    \"otp_code\": input(\"Enter your OTP code: \"),\n",
    "    \"phone_number\": phone_number,\n",
    "    \"is_update\": False,\n",
    "}\n",
    "session.post(url, json=body)"
   ]
  },
  {
   "cell_type": "markdown",
   "metadata": {},
   "source": [
    "セッションを取得"
   ]
  },
  {
   "cell_type": "code",
   "execution_count": null,
   "metadata": {
    "tags": []
   },
   "outputs": [],
   "source": [
    "count = 0 \n",
    "\n",
    "#一回でいいねする上限\n",
    "count_mux = 100\n",
    "\n",
    "for n in range(6):\n",
    "    # 女の子リスト取得\n",
    "    users = session.get(\"https://api.gotinder.com/v2/recs/core?locale=ja\")\n",
    "\n",
    "    for user in json.loads(users.text)[\"data\"][\"results\"]:\n",
    "        count += 1\n",
    "\n",
    "        # 0.1秒待たせて手動っぽくする\n",
    "        time.sleep(0.1)\n",
    "\n",
    "        print(\"count:\", count)\n",
    "\n",
    "        user_id = user[\"user\"][\"_id\"]\n",
    "        # print(user_id)\n",
    "\n",
    "        # いいね!\n",
    "        session.get(\"https://api.gotinder.com/like/{}?locale=ja\".format(user_id))\n",
    "        # 一回でいいねする上限\n",
    "        if count == count_mux:\n",
    "            break\n",
    "    if count == count_mux:\n",
    "        break\n"
   ]
  },
  {
   "cell_type": "markdown",
   "metadata": {},
   "source": [
    "いいねする"
   ]
  },
  {
   "cell_type": "code",
   "execution_count": null,
   "metadata": {},
   "outputs": [],
   "source": [
    "driver.quit()"
   ]
  },
  {
   "cell_type": "code",
   "execution_count": null,
   "metadata": {},
   "outputs": [],
   "source": [
    "ドライバーを閉じる"
   ]
  }
 ]
}